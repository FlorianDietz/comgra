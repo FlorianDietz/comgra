{
 "cells": [
  {
   "cell_type": "code",
   "execution_count": null,
   "metadata": {
    "collapsed": true,
    "pycharm": {
     "is_executing": true
    }
   },
   "outputs": [],
   "source": [
    "\n",
    "%reload_ext autoreload\n",
    "%autoreload 2\n",
    "\n",
    "import collections\n",
    "import copy\n",
    "import datetime\n",
    "import functools\n",
    "import json\n",
    "import math\n",
    "import numbers\n",
    "import os\n",
    "from pathlib import Path\n",
    "import pdb\n",
    "from pprint import pprint, PrettyPrinter\n",
    "import random\n",
    "import re\n",
    "import shutil\n",
    "import sys\n",
    "\n",
    "from IPython.display import display, HTML\n",
    "import matplotlib\n",
    "import numpy as np\n",
    "import pandas as pd\n",
    "import torch\n",
    "\n",
    "from intnet.misc import constants, default_settings, utilities, parameters\n",
    "from intnet.misc.logging import log, log_v, log_indent\n",
    "from intnet import experiments\n",
    "from intnet import experiment_storage\n",
    "from intnet import control_units\n",
    "from intnet import environments\n",
    "from intnet import interaction_network\n",
    "from intnet import processing_units\n",
    "from intnet import nodes\n",
    "from intnet import scenario_mechanisms\n",
    "# Define the default settings to use.\n",
    "settings = default_settings.get_default_settings()\n",
    "# Turn warnings into error messages, for debugging\n",
    "if not sys.warnoptions:\n",
    "    import warnings\n",
    "    warnings.simplefilter(\"error\")\n",
    "# Make the outputs of Jupyter Cells not wrap\n",
    "from IPython.core.display import HTML\n",
    "display(HTML(\"\"))"
   ]
  },
  {
   "cell_type": "code",
   "execution_count": null,
   "outputs": [],
   "source": [
    "# Define the default settings to use.\n",
    "settings = default_settings.get_default_settings()"
   ],
   "metadata": {
    "collapsed": false,
    "pycharm": {
     "is_executing": true
    }
   }
  },
  {
   "cell_type": "code",
   "execution_count": null,
   "outputs": [],
   "source": [
    "# Turn warnings into error messages, for debugging\n",
    "if not sys.warnoptions:\n",
    "    import warnings\n",
    "    warnings.simplefilter(\"error\")"
   ],
   "metadata": {
    "collapsed": false,
    "pycharm": {
     "is_executing": true
    }
   }
  },
  {
   "cell_type": "code",
   "execution_count": null,
   "outputs": [],
   "source": [
    "# Make the outputs of Jupyter Cells not wrap\n",
    "from IPython.core.display import HTML\n",
    "display(HTML(\"\"))"
   ],
   "metadata": {
    "collapsed": false
   }
  }
 ],
 "metadata": {
  "kernelspec": {
   "display_name": "Python 3",
   "language": "python",
   "name": "python3"
  },
  "language_info": {
   "codemirror_mode": {
    "name": "ipython",
    "version": 2
   },
   "file_extension": ".py",
   "mimetype": "text/x-python",
   "name": "python",
   "nbconvert_exporter": "python",
   "pygments_lexer": "ipython2",
   "version": "2.7.6"
  }
 },
 "nbformat": 4,
 "nbformat_minor": 0
}
